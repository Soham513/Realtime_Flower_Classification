{
  "cells": [
    {
      "cell_type": "code",
      "execution_count": 2,
      "metadata": {},
      "outputs": [
        {
          "name": "stderr",
          "output_type": "stream",
          "text": [
            "100%|██████████| 500/500 [00:10<00:00, 47.32it/s]\n",
            "100%|██████████| 504/504 [00:09<00:00, 51.90it/s]\n",
            "100%|██████████| 306/306 [00:07<00:00, 41.70it/s]\n",
            "100%|██████████| 500/500 [00:08<00:00, 58.08it/s]\n",
            "100%|██████████| 500/500 [00:09<00:00, 51.69it/s]\n"
          ]
        },
        {
          "ename": "MemoryError",
          "evalue": "Unable to allocate 1.61 GiB for an array with shape (2310, 500, 500, 3) and data type uint8",
          "output_type": "error",
          "traceback": [
            "\u001b[1;31m---------------------------------------------------------------------------\u001b[0m",
            "\u001b[1;31mMemoryError\u001b[0m                               Traceback (most recent call last)",
            "Cell \u001b[1;32mIn[2], line 37\u001b[0m\n\u001b[0;32m     35\u001b[0m \u001b[38;5;66;03m# Load and preprocess data\u001b[39;00m\n\u001b[0;32m     36\u001b[0m data_dir \u001b[38;5;241m=\u001b[39m \u001b[38;5;124m'\u001b[39m\u001b[38;5;124mC:\u001b[39m\u001b[38;5;130;01m\\\\\u001b[39;00m\u001b[38;5;124mUsers\u001b[39m\u001b[38;5;130;01m\\\\\u001b[39;00m\u001b[38;5;124mSoham\u001b[39m\u001b[38;5;130;01m\\\\\u001b[39;00m\u001b[38;5;124mDesktop\u001b[39m\u001b[38;5;130;01m\\\\\u001b[39;00m\u001b[38;5;124mNewFlowers\u001b[39m\u001b[38;5;130;01m\\\\\u001b[39;00m\u001b[38;5;124mTheRealData\u001b[39m\u001b[38;5;124m'\u001b[39m  \u001b[38;5;66;03m# Replace with the actual path to your dataset\u001b[39;00m\n\u001b[1;32m---> 37\u001b[0m X, Y \u001b[38;5;241m=\u001b[39m \u001b[43mload_and_preprocess_data\u001b[49m\u001b[43m(\u001b[49m\u001b[43mdata_dir\u001b[49m\u001b[43m)\u001b[49m\n\u001b[0;32m     39\u001b[0m \u001b[38;5;66;03m# Split the data into training and testing sets\u001b[39;00m\n\u001b[0;32m     40\u001b[0m x_train, x_test, y_train, y_test \u001b[38;5;241m=\u001b[39m train_test_split(X, Y, test_size\u001b[38;5;241m=\u001b[39m\u001b[38;5;241m0.2\u001b[39m, random_state\u001b[38;5;241m=\u001b[39m\u001b[38;5;241m42\u001b[39m)\n",
            "Cell \u001b[1;32mIn[2], line 30\u001b[0m, in \u001b[0;36mload_and_preprocess_data\u001b[1;34m(data_dir)\u001b[0m\n\u001b[0;32m     28\u001b[0m Y \u001b[38;5;241m=\u001b[39m le\u001b[38;5;241m.\u001b[39mfit_transform(Z)\n\u001b[0;32m     29\u001b[0m Y \u001b[38;5;241m=\u001b[39m to_categorical(Y, \u001b[38;5;241m5\u001b[39m)\n\u001b[1;32m---> 30\u001b[0m X \u001b[38;5;241m=\u001b[39m np\u001b[38;5;241m.\u001b[39marray(X)\n\u001b[0;32m     31\u001b[0m X \u001b[38;5;241m=\u001b[39m X \u001b[38;5;241m/\u001b[39m \u001b[38;5;241m255.0\u001b[39m  \u001b[38;5;66;03m# Normalize pixel values to [0, 1]\u001b[39;00m\n\u001b[0;32m     33\u001b[0m \u001b[38;5;28;01mreturn\u001b[39;00m X, Y\n",
            "\u001b[1;31mMemoryError\u001b[0m: Unable to allocate 1.61 GiB for an array with shape (2310, 500, 500, 3) and data type uint8"
          ]
        }
      ],
      "source": [
        "import os\n",
        "import cv2\n",
        "import numpy as np\n",
        "from tqdm import tqdm\n",
        "from sklearn.preprocessing import LabelEncoder\n",
        "from keras.utils import to_categorical\n",
        "from keras.models import Sequential\n",
        "from keras.layers import Conv2D, MaxPooling2D, Flatten, Dense, BatchNormalization\n",
        "from keras.optimizers import Adam\n",
        "from keras.callbacks import ReduceLROnPlateau\n",
        "from sklearn.model_selection import train_test_split\n",
        "\n",
        "# Function to load and preprocess image data\n",
        "def load_and_preprocess_data(data_dir):\n",
        "    X = []\n",
        "    Z = []\n",
        "\n",
        "    for flower_type in os.listdir(data_dir):\n",
        "        flower_path = os.path.join(data_dir, flower_type)\n",
        "        for img in tqdm(os.listdir(flower_path)):\n",
        "            img_path = os.path.join(flower_path, img)\n",
        "            img = cv2.imread(img_path, cv2.IMREAD_COLOR)\n",
        "            img = cv2.resize(img, (500, 500))\n",
        "            X.append(np.array(img))\n",
        "            Z.append(str(flower_type))\n",
        "\n",
        "    le = LabelEncoder()\n",
        "    Y = le.fit_transform(Z)\n",
        "    Y = to_categorical(Y, 5)\n",
        "    X = np.array(X)\n",
        "    X = X / 255.0  # Normalize pixel values to [0, 1]\n",
        "\n",
        "    return X, Y\n",
        "\n",
        "# Load and preprocess data\n",
        "data_dir = 'C:\\\\Users\\\\Soham\\\\Desktop\\\\NewFlowers\\\\TheRealData'  # Replace with the actual path to your dataset\n",
        "X, Y = load_and_preprocess_data(data_dir)\n",
        "\n",
        "# Split the data into training and testing sets\n",
        "x_train, x_test, y_train, y_test = train_test_split(X, Y, test_size=0.2, random_state=42)\n",
        "\n",
        "# Model definition\n",
        "model = Sequential()\n",
        "\n",
        "model.add(Conv2D(filters=32, kernel_size=(5, 5), padding='Same', activation='relu', input_shape=(500, 500, 3)))\n",
        "model.add(MaxPooling2D(pool_size=(2, 2)))\n",
        "model.add(BatchNormalization())\n",
        "\n",
        "model.add(Conv2D(filters=64, kernel_size=(3, 3), padding='Same', activation='relu'))\n",
        "model.add(MaxPooling2D(pool_size=(2, 2), strides=(2, 2)))\n",
        "model.add(BatchNormalization())\n",
        "\n",
        "model.add(Conv2D(filters=96, kernel_size=(3, 3), padding='Same', activation='relu'))\n",
        "model.add(MaxPooling2D(pool_size=(2, 2), strides=(2, 2)))\n",
        "model.add(BatchNormalization())\n",
        "\n",
        "model.add(Flatten())\n",
        "model.add(Dense(512, activation='relu'))\n",
        "model.add(Dense(5, activation='softmax'))\n",
        "\n",
        "# Compile the model\n",
        "model.compile(optimizer=Adam(lr=0.001), loss='categorical_crossentropy', metrics=['accuracy'])\n",
        "\n",
        "# Learning rate reduction callback\n",
        "red_lr = ReduceLROnPlateau(monitor='val_accuracy', patience=3, verbose=1, factor=0.1)\n",
        "\n",
        "# Train the model\n",
        "batch_size = 16\n",
        "epochs = 12\n",
        "\n",
        "History = model.fit(x_train, y_train, epochs=epochs, batch_size=batch_size,\n",
        "                    validation_data=(x_test, y_test), callbacks=[red_lr])\n"
      ]
    }
  ],
  "metadata": {
    "colab": {
      "provenance": []
    },
    "kernelspec": {
      "display_name": "Python 3",
      "name": "python3"
    },
    "language_info": {
      "codemirror_mode": {
        "name": "ipython",
        "version": 3
      },
      "file_extension": ".py",
      "mimetype": "text/x-python",
      "name": "python",
      "nbconvert_exporter": "python",
      "pygments_lexer": "ipython3",
      "version": "3.11.0"
    }
  },
  "nbformat": 4,
  "nbformat_minor": 0
}
